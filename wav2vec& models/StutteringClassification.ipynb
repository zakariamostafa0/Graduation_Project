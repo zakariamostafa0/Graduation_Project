{
  "cells": [
    {
      "cell_type": "code",
      "execution_count": null,
      "metadata": {
        "colab": {
          "base_uri": "https://localhost:8080/"
        },
        "id": "b0FweydyaFn0",
        "outputId": "b7d54dbf-ccc1-4882-f8be-767b64f02a0f"
      },
      "outputs": [
        {
          "name": "stdout",
          "output_type": "stream",
          "text": [
            "Drive already mounted at /content/drive; to attempt to forcibly remount, call drive.mount(\"/content/drive\", force_remount=True).\n"
          ]
        }
      ],
      "source": [
        "from google.colab import drive\n",
        "drive.mount('/content/drive')"
      ]
    },
    {
      "cell_type": "code",
      "execution_count": null,
      "metadata": {
        "id": "PQ65RTpjZ69T"
      },
      "outputs": [],
      "source": [
        "import numpy as np\n",
        "# load the split datasets from the files\n",
        "\n",
        "X_train = np.load(\"/content/drive/MyDrive/Feature_extraction_wav2vec/data_split/train_features.npy\")\n",
        "y_train = np.load(\"/content/drive/MyDrive/Feature_extraction_wav2vec/data_split/train_labels.npy\")\n",
        "X_val = np.load(\"/content/drive/MyDrive/Feature_extraction_wav2vec/data_split/val_features.npy\")\n",
        "y_val = np.load(\"/content/drive/MyDrive/Feature_extraction_wav2vec/data_split/val_labels.npy\")\n",
        "X_test = np.load(\"/content/drive/MyDrive/Feature_extraction_wav2vec/data_split/test_features.npy\")\n",
        "y_test = np.load(\"/content/drive/MyDrive/Feature_extraction_wav2vec/data_split/test_labels.npy\")"
      ]
    },
    {
      "cell_type": "code",
      "execution_count": null,
      "metadata": {
        "colab": {
          "base_uri": "https://localhost:8080/"
        },
        "id": "QbmGJtldhnWz",
        "outputId": "14d9742a-d45b-47df-984f-7f8df909d89d"
      },
      "outputs": [
        {
          "name": "stdout",
          "output_type": "stream",
          "text": [
            "(9350, 149, 768)\n",
            "(9350,)\n",
            "(9350, 149, 768)\n",
            "(2338,)\n"
          ]
        }
      ],
      "source": [
        "print(X_train.shape)\n",
        "print(y_train.shape)\n",
        "print(X_train.shape)\n",
        "print(y_val.shape)\n"
      ]
    },
    {
      "cell_type": "code",
      "execution_count": null,
      "metadata": {
        "colab": {
          "base_uri": "https://localhost:8080/"
        },
        "id": "yssxQ93U2wR_",
        "outputId": "adccde0c-cf6b-41e5-e01c-fff78ddbaebc"
      },
      "outputs": [
        {
          "data": {
            "text/plain": [
              "(149, 768)"
            ]
          },
          "execution_count": 4,
          "metadata": {},
          "output_type": "execute_result"
        }
      ],
      "source": [
        "input_shape = X_train.shape[1:]  # Remove the indexing for shape\n",
        "input_shape"
      ]
    },
    {
      "cell_type": "code",
      "execution_count": null,
      "metadata": {
        "colab": {
          "base_uri": "https://localhost:8080/"
        },
        "id": "9POL4mLtaGO3",
        "outputId": "57066575-bdda-4f1d-a5f4-93f7302d5794"
      },
      "outputs": [
        {
          "output_type": "stream",
          "name": "stdout",
          "text": [
            "Model: \"sequential_4\"\n",
            "_________________________________________________________________\n",
            " Layer (type)                Output Shape              Param #   \n",
            "=================================================================\n",
            " conv2d_7 (Conv2D)           (None, 147, 766, 32)      320       \n",
            "                                                                 \n",
            " max_pooling2d_7 (MaxPooling  (None, 74, 383, 32)      0         \n",
            " 2D)                                                             \n",
            "                                                                 \n",
            " batch_normalization_7 (Batc  (None, 74, 383, 32)      128       \n",
            " hNormalization)                                                 \n",
            "                                                                 \n",
            " time_distributed_4 (TimeDis  (None, 74, 12256)        0         \n",
            " tributed)                                                       \n",
            "                                                                 \n",
            " gru1 (GRU)                  (None, 74, 32)            1179840   \n",
            "                                                                 \n",
            " gru2 (GRU)                  (None, 32)                6336      \n",
            "                                                                 \n",
            " dropout_4 (Dropout)         (None, 32)                0         \n",
            "                                                                 \n",
            " dense_4 (Dense)             (None, 6)                 198       \n",
            "                                                                 \n",
            "=================================================================\n",
            "Total params: 1,186,822\n",
            "Trainable params: 1,186,758\n",
            "Non-trainable params: 64\n",
            "_________________________________________________________________\n"
          ]
        }
      ],
      "source": [
        "from keras.layers.serialization import activation\n",
        "import keras as keras\n",
        "from keras.callbacks import EarlyStopping\n",
        "from keras.layers import BatchNormalization\n",
        "from keras.models import Sequential\n",
        "from keras.layers import LSTM, Bidirectional, Dense, SpatialDropout1D,Dropout\n",
        "early_stop = EarlyStopping(monitor='val_loss', patience=6)\n",
        "input_shape = (X_train.shape[1], X_train.shape[2],1)\n",
        "\n",
        "model = keras.Sequential()\n",
        "# conv layer\n",
        "model.add(keras.layers.Conv2D(32, (3, 3), activation='relu', input_shape=input_shape))\n",
        "model.add(keras.layers.MaxPooling2D((3, 3), strides=(2, 2), padding='same'))\n",
        "model.add(keras.layers.BatchNormalization())\n",
        "\n",
        "model.add(keras.layers.TimeDistributed(keras.layers.Flatten(input_shape=(9, 3, 32))))\n",
        "\n",
        "# GRU block 1, 2, output\n",
        "model.add(keras.layers.GRU(32, return_sequences=True, name='gru1'))\n",
        "model.add(keras.layers.GRU(32, return_sequences=False, name='gru2'))\n",
        "model.add(keras.layers.Dropout(0.3))\n",
        "\n",
        "#output layer\n",
        "model.add(keras.layers.Dense(6, activation='softmax'))\n",
        "\n",
        "optimiser = keras.optimizers.Adam(learning_rate=0.0001)\n",
        "model.compile(optimizer=optimiser,\n",
        "                 loss='sparse_categorical_crossentropy',\n",
        "                 metrics=['accuracy'])\n",
        "model.summary()\n",
        "history = model.fit(X_train, y_train, validation_data=(X_val, y_val), batch_size=32, epochs=40, callbacks=[early_stop])"
      ]
    },
    {
      "cell_type": "code",
      "execution_count": null,
      "metadata": {
        "colab": {
          "base_uri": "https://localhost:8080/"
        },
        "id": "bMZyZu6yaJoW",
        "outputId": "bac310b3-1359-47db-807c-1825f038dd81"
      },
      "outputs": [
        {
          "output_type": "stream",
          "name": "stdout",
          "text": [
            "Epoch 1/40\n",
            "293/293 [==============================] - 189s 630ms/step - loss: 1.7327 - accuracy: 0.2771 - val_loss: 1.7754 - val_accuracy: 0.2340\n",
            "Epoch 2/40\n",
            "293/293 [==============================] - 181s 617ms/step - loss: 1.5960 - accuracy: 0.3571 - val_loss: 1.5563 - val_accuracy: 0.3914\n",
            "Epoch 3/40\n",
            "293/293 [==============================] - 187s 637ms/step - loss: 1.5264 - accuracy: 0.3972 - val_loss: 1.5062 - val_accuracy: 0.4115\n",
            "Epoch 4/40\n",
            "293/293 [==============================] - 205s 701ms/step - loss: 1.4854 - accuracy: 0.4270 - val_loss: 1.4785 - val_accuracy: 0.4264\n",
            "Epoch 5/40\n",
            "293/293 [==============================] - 190s 649ms/step - loss: 1.4412 - accuracy: 0.4401 - val_loss: 1.4665 - val_accuracy: 0.4226\n",
            "Epoch 6/40\n",
            "293/293 [==============================] - 191s 654ms/step - loss: 1.4000 - accuracy: 0.4643 - val_loss: 1.4473 - val_accuracy: 0.4333\n",
            "Epoch 7/40\n",
            "293/293 [==============================] - 190s 649ms/step - loss: 1.3639 - accuracy: 0.4818 - val_loss: 1.4273 - val_accuracy: 0.4474\n",
            "Epoch 8/40\n",
            "293/293 [==============================] - 197s 671ms/step - loss: 1.3383 - accuracy: 0.4878 - val_loss: 1.4357 - val_accuracy: 0.4341\n",
            "Epoch 9/40\n",
            "293/293 [==============================] - 194s 661ms/step - loss: 1.2945 - accuracy: 0.5164 - val_loss: 1.4112 - val_accuracy: 0.4457\n",
            "Epoch 10/40\n",
            "293/293 [==============================] - 196s 670ms/step - loss: 1.2745 - accuracy: 0.5217 - val_loss: 1.4398 - val_accuracy: 0.4311\n",
            "Epoch 11/40\n",
            "293/293 [==============================] - 196s 668ms/step - loss: 1.2376 - accuracy: 0.5335 - val_loss: 1.4341 - val_accuracy: 0.4367\n",
            "Epoch 12/40\n",
            "293/293 [==============================] - 197s 673ms/step - loss: 1.2155 - accuracy: 0.5368 - val_loss: 1.4401 - val_accuracy: 0.4380\n",
            "Epoch 13/40\n",
            "293/293 [==============================] - 199s 679ms/step - loss: 1.1754 - accuracy: 0.5599 - val_loss: 1.4555 - val_accuracy: 0.4311\n",
            "Epoch 14/40\n",
            "293/293 [==============================] - 189s 645ms/step - loss: 1.1443 - accuracy: 0.5809 - val_loss: 1.4521 - val_accuracy: 0.4333\n",
            "Epoch 15/40\n",
            "293/293 [==============================] - 189s 645ms/step - loss: 1.1014 - accuracy: 0.5928 - val_loss: 1.4816 - val_accuracy: 0.4358\n"
          ]
        }
      ],
      "source": [
        "history = model.fit(X_train, y_train, validation_data=(X_val, y_val), batch_size=32, epochs=40, callbacks=[early_stop])"
      ]
    },
    {
      "cell_type": "code",
      "execution_count": null,
      "metadata": {
        "id": "nrjuN6QuaQJh"
      },
      "outputs": [],
      "source": [
        "from keras.models import load_model\n",
        "model.save(\"/content/drive/MyDrive/CNN_GRU/model2/modelCNNGRU.h5\")"
      ]
    },
    {
      "cell_type": "code",
      "execution_count": null,
      "metadata": {
        "colab": {
          "base_uri": "https://localhost:8080/"
        },
        "id": "Sij2HJBcaLnn",
        "outputId": "0c5d93a1-d9d6-4297-cc91-17d2a6bab5af"
      },
      "outputs": [
        {
          "output_type": "stream",
          "name": "stdout",
          "text": [
            "92/92 - 14s - loss: 1.4660 - accuracy: 0.4389 - 14s/epoch - 147ms/step\n",
            "\n",
            "Test accuracy: 0.4389325976371765\n"
          ]
        }
      ],
      "source": [
        "test_loss, test_acc = model.evaluate(X_test, y_test, verbose=2)\n",
        "print('\\nTest accuracy:', test_acc)"
      ]
    },
    {
      "cell_type": "code",
      "execution_count": null,
      "metadata": {
        "colab": {
          "base_uri": "https://localhost:8080/",
          "height": 472
        },
        "id": "9C1noG0CaNJM",
        "outputId": "ba8e7dfd-482b-42e1-8d19-e11965df52af"
      },
      "outputs": [
        {
          "output_type": "display_data",
          "data": {
            "text/plain": [
              "<Figure size 640x480 with 2 Axes>"
            ],
            "image/png": "[encoded data removed]"
          },
          "metadata": {}
        }
      ],
      "source": [
        "import matplotlib.pyplot as plt\n",
        "fig, axs = plt.subplots(2)\n",
        "\n",
        "# create accuracy sublpot\n",
        "axs[0].plot(history.history[\"accuracy\"], label=\"train accuracy\")\n",
        "axs[0].plot(history.history[\"val_accuracy\"], label=\"test accuracy\")\n",
        "axs[0].set_ylabel(\"Accuracy\")\n",
        "axs[0].legend(loc=\"lower right\")\n",
        "axs[0].set_title(\"Accuracy eval\")\n",
        "\n",
        "# create error sublpot\n",
        "axs[1].plot(history.history[\"loss\"], label=\"train error\")\n",
        "axs[1].plot(history.history[\"val_loss\"], label=\"test error\")\n",
        "axs[1].set_ylabel(\"Error\")\n",
        "axs[1].set_xlabel(\"Epoch\")\n",
        "axs[1].legend(loc=\"upper right\")\n",
        "axs[1].set_title(\"Error eval\")\n",
        "\n",
        "plt.show()\n"
      ]
    },
    {
      "cell_type": "code",
      "execution_count": null,
      "metadata": {
        "id": "m_c7ow4iawhO"
      },
      "outputs": [],
      "source": [
        "def predict(model, X, y):\n",
        "    \"\"\"Predict a single sample using the trained model\n",
        "    :param model: Trained classifier\n",
        "    :param X: Input data\n",
        "    :param y (int): Target\n",
        "    \"\"\"\n",
        "\n",
        "    # add a dimension to input data for sample - model.predict() expects a 4d array in this case\n",
        "    X = X[np.newaxis, ...] # array shape (1, 130, 13, 1)\n",
        "\n",
        "    # perform prediction\n",
        "    prediction = model.predict(X)\n",
        "\n",
        "    # get index with max value\n",
        "    predicted_index = np.argmax(prediction, axis=1)\n",
        "\n",
        "    print(\"Target: {}, Predicted label: {}\".format(y, predicted_index))"
      ]
    }
  ],
  "metadata": {
    "accelerator": "TPU",
    "colab": {
      "machine_shape": "hm",
      "provenance": []
    },
    "kernelspec": {
      "display_name": "Python 3",
      "name": "python3"
    },
    "language_info": {
      "name": "python"
    }
  },
  "nbformat": 4,
  "nbformat_minor": 0
}